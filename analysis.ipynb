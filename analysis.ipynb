{
 "metadata": {
  "language_info": {
   "codemirror_mode": {
    "name": "ipython",
    "version": 3
   },
   "file_extension": ".py",
   "mimetype": "text/x-python",
   "name": "python",
   "nbconvert_exporter": "python",
   "pygments_lexer": "ipython3",
   "version": "3.8.3-final"
  },
  "orig_nbformat": 2,
  "kernelspec": {
   "name": "python_defaultSpec_1597594124207",
   "display_name": "Python 3.8.3 64-bit ('.venv': venv)"
  }
 },
 "nbformat": 4,
 "nbformat_minor": 2,
 "cells": [
  {
   "cell_type": "code",
   "execution_count": 1,
   "metadata": {},
   "outputs": [
    {
     "output_type": "execute_result",
     "data": {
      "text/plain": "{'px': '0.0',\n 'pz': '2.15',\n 'start_speed': '88.8',\n 'end_speed': '80.7',\n 'spin_rate': 'placeholder',\n 'spin_dir': 'placeholder',\n 'break_angle': '22.8',\n 'break_length': '4.8',\n 'break_y': '24.0',\n 'ax': '-8.47',\n 'ay': '28.9',\n 'az': '-15.51',\n 'sz_bot': '1.7',\n 'sz_top': '3.36',\n 'type_confidence': 'placeholder',\n 'vx0': '5.28',\n 'vy0': '-128.95',\n 'vz0': '-6.89',\n 'x': '116.97',\n 'x0': '-1.42',\n 'y': '180.81',\n 'y0': '50.0',\n 'z0': '6.07',\n 'pfx_x': '-5.07',\n 'pfx_z': '9.98',\n 'nasty': '',\n 'zone': 'placeholder',\n 'code': 'X',\n 'type': 'X',\n 'pitch_type': 'FF',\n 'event_num': '5',\n 'b_score': '0.0',\n 'ab_id': '2019000001.0',\n 'b_count': '0.0',\n 's_count': '0.0',\n 'outs': '0.0',\n 'pitch_num': '1.0',\n 'on_1b': '0.0',\n 'on_2b': '0.0',\n 'on_3b': '0.0'}"
     },
     "metadata": {},
     "execution_count": 1
    }
   ],
   "source": [
    "import csv\n",
    "%precision 4\n",
    "with open(\"2019_pitches.csv\") as fh:\n",
    "    reader = csv.DictReader(fh)\n",
    "    pitches = [row for row in reader]\n",
    "  \n",
    "pitches[0]"
   ]
  },
  {
   "cell_type": "code",
   "execution_count": 2,
   "metadata": {},
   "outputs": [
    {
     "output_type": "execute_result",
     "data": {
      "text/plain": "{'px': '-0.05',\n 'pz': '2.03',\n 'start_speed': '85.7',\n 'end_speed': '79.6',\n 'spin_rate': 'placeholder',\n 'spin_dir': 'placeholder',\n 'break_angle': '9.6',\n 'break_length': '6.0',\n 'break_y': '24.0',\n 'ax': '3.65',\n 'ay': '22.07',\n 'az': '-22.64',\n 'sz_bot': '1.59',\n 'sz_top': '3.55',\n 'type_confidence': 'placeholder',\n 'vx0': '2.33',\n 'vy0': '-124.6',\n 'vz0': '-5.98',\n 'x': '118.86',\n 'x0': '-1.29',\n 'y': '183.96',\n 'y0': '50.0',\n 'z0': '6.3',\n 'pfx_x': '2.3',\n 'pfx_z': '5.99',\n 'nasty': '',\n 'zone': 'placeholder',\n 'code': 'S',\n 'type': 'S',\n 'pitch_type': 'SL',\n 'event_num': '9',\n 'b_score': '0.0',\n 'ab_id': '2019000002.0',\n 'b_count': '0.0',\n 's_count': '0.0',\n 'outs': '1.0',\n 'pitch_num': '2.0',\n 'on_1b': '0.0',\n 'on_2b': '0.0',\n 'on_3b': '0.0'}"
     },
     "metadata": {},
     "execution_count": 2
    }
   ],
   "source": [
    "pitches[2]"
   ]
  },
  {
   "cell_type": "code",
   "execution_count": 3,
   "metadata": {
    "tags": []
   },
   "outputs": [
    {
     "output_type": "stream",
     "name": "stdout",
     "text": "{'px': '0.37', 'pz': '2.07', 'start_speed': '90.5', 'end_speed': '83.2', 'spin_rate': 'placeholder', 'spin_dir': 'placeholder', 'break_angle': '27.6', 'break_length': '4.8', 'break_y': '24.0', 'ax': '11.97', 'ay': '26.73', 'az': '-19.0', 'sz_bot': '1.72', 'sz_top': '3.66', 'type_confidence': 'placeholder', 'vx0': '-7.47', 'vy0': '-131.53', 'vz0': '-6.28', 'x': '102.82', 'x0': '2.36', 'y': '182.94', 'y0': '50.0', 'z0': '5.88', 'pfx_x': '6.8', 'pfx_z': '7.49', 'nasty': '', 'zone': 'placeholder', 'code': 'C', 'type': 'C', 'pitch_type': 'FF', 'event_num': '5', 'b_score': '0.0', 'ab_id': '2019000066.0', 'b_count': '0.0', 's_count': '0.0', 'outs': '0.0', 'pitch_num': '1.0', 'on_1b': '0.0', 'on_2b': '0.0', 'on_3b': '0.0'}\n"
    }
   ],
   "source": [
    "# Pitcher L, R can be detected by looking at x0. If x0 < 0 == R, else L\n",
    "# We could also use vx0. If vx0 > 0 == R, else L (opposite sign of x0)\n",
    "for row in pitches:\n",
    "    if float(row[\"x0\"]) > 0:\n",
    "        print(row)\n",
    "        break"
   ]
  },
  {
   "cell_type": "code",
   "execution_count": 4,
   "metadata": {
    "tags": []
   },
   "outputs": [
    {
     "output_type": "stream",
     "name": "stdout",
     "text": "FF: [91.8, 93.5, 95.2]   [84.3, 85.9, 87.4]\nSL: [82.6, 84.8, 86.9]   [76.4, 78.6, 80.6]\nCH: [82.5, 84.8, 86.9]   [76.1, 78.3, 80.2]\nFT: [91.0, 92.8, 94.5]   [83.7, 85.4, 86.9]\nSI: [90.2, 92.3, 94.1]   [83.0, 84.8, 86.6]\nKC: [79.1, 80.8, 82.5]   [72.9, 74.7, 76.3]\nCU: [76.2, 78.8, 81.1]   [70.4, 72.8, 75.0]\nFC: [86.6, 88.3, 90.4]   [80.2, 81.8, 83.7]\nFS: [83.6, 85.3, 86.9]   [77.2, 78.9, 80.4]\n"
    }
   ],
   "source": [
    "# Speed range by pitch type\n",
    "# quantiles is the data\n",
    "\n",
    "from statistics import quantiles\n",
    "from collections import defaultdict\n",
    "\n",
    "pitch_types = [\"FF\", \"FT\", \"SL\", \"SI\", \"CH\", \"CU\", \"FC\", \"KC\", \"FS\"]\n",
    "    \n",
    "def get_custom(getter, by_pitch_type=True, by_handedness=False):\n",
    "    stat = defaultdict(list)\n",
    "    for p in pitches:\n",
    "        p_type = p[\"pitch_type\"]\n",
    "        if p_type not in pitch_types:\n",
    "            continue\n",
    "\n",
    "        if not by_pitch_type:\n",
    "            p_type = \"ALL\"\n",
    "        if by_handedness:\n",
    "            handed = \"R\" if float(p[\"vx0\"]) > 0 else \"L\"\n",
    "            p_type += \"_\" + handed\n",
    "        stat[p_type].append(getter(p))\n",
    "\n",
    "    return {k: quantiles(v) for k, v in stat.items()}\n",
    "\n",
    "def get_quartiles(property: str, by_pitch_type=True, by_handedness=False):\n",
    "    \"\"\"Aggregate the value of the property and return quartiles\"\"\"\n",
    "    return get_custom(lambda x: float(x[property]), by_pitch_type, by_handedness)\n",
    "\n",
    "speed_start = get_quartiles(\"start_speed\")\n",
    "speed_end = get_quartiles(\"end_speed\")\n",
    "\n",
    "for p_type in speed_start.keys():\n",
    "    print(f\"{p_type}: {speed_start[p_type]}   {speed_end[p_type]}\")"
   ]
  },
  {
   "cell_type": "code",
   "execution_count": 5,
   "metadata": {
    "tags": []
   },
   "outputs": [
    {
     "output_type": "stream",
     "name": "stdout",
     "text": "FF: 36.22%\nSL: 17.69%\nCH: 11.07%\nFT: 8.456%\nSI: 7.669%\nKC: 2.123%\nCU: 8.889%\nFC: 6.419%\nFS: 1.46%\n"
    }
   ],
   "source": [
    "# counts by pitch type\n",
    "\n",
    "total_count = 0.0\n",
    "counts = defaultdict(int)\n",
    "for p in pitches:\n",
    "    p_type = p[\"pitch_type\"]\n",
    "    if p_type not in pitch_types:\n",
    "        continue\n",
    "\n",
    "    counts[p_type] += 1\n",
    "    total_count += 1\n",
    "\n",
    "for p_type, count in counts.items():\n",
    "    print(f\"{p_type}: {100*count/total_count:.4}%\")"
   ]
  },
  {
   "cell_type": "code",
   "execution_count": 6,
   "metadata": {},
   "outputs": [],
   "source": [
    "# p_x and p_y is where a pitch crosses the plate\n",
    "# What is pfx_x and pfx_z"
   ]
  },
  {
   "cell_type": "code",
   "execution_count": 7,
   "metadata": {
    "tags": []
   },
   "outputs": [
    {
     "output_type": "stream",
     "name": "stdout",
     "text": "FF - R: [-6.36, -4.84, -3.29]\t L: [3.02, 4.81, 6.45]\nFT - R: [-9.98, -8.93, -7.75]\t L: [7.75, 8.87, 9.86]\nSL - R: [0.59, 1.93, 3.48]\t L: [-3.25, -1.54, -0.05]\nSI - R: [-10.28, -9.19, -8.0]\t L: [7.42, 8.62, 9.79]\nCH - R: [-9.57, -8.32, -6.84]\t L: [7.02, 8.55, 9.96]\nCU - R: [2.4, 4.46, 6.46]\t L: [-5.47, -3.08, 0.99]\nFC - R: [-0.19, 1.05, 2.16]\t L: [-0.97, -0.01, 1.09]\nKC - R: [2.02, 3.93, 5.795]\t L: [-2.83, -0.76, 1.24]\nFS - R: [-7.915, -6.36, -4.73]\t L: [-3.69, -1.27, 1.44]\n"
    },
    {
     "output_type": "execute_result",
     "data": {
      "text/plain": "{'FF': [8.0400, 9.1900, 10.2200],\n 'SL': [-0.4200, 1.3200, 2.9600],\n 'CH': [2.4800, 4.3900, 6.0900],\n 'FT': [4.6100, 6.0600, 7.4200],\n 'SI': [3.4000, 5.1700, 6.7950],\n 'KC': [-7.9100, -6.1200, -4.0300],\n 'CU': [-7.3500, -5.1600, -2.7000],\n 'FC': [3.2200, 4.6100, 6.0300],\n 'FS': [1.1100, 2.6900, 4.5500]}"
     },
     "metadata": {},
     "execution_count": 7
    }
   ],
   "source": [
    "# Conclusion: \n",
    "pfx_x = get_quartiles(\"pfx_x\", by_handedness=True)\n",
    "pfx_z = get_quartiles(\"pfx_z\")\n",
    "\n",
    "def print_by_handedness(quarts):\n",
    "    for p_type in pitch_types:\n",
    "        R = p_type + \"_R\"\n",
    "        L = p_type + \"_L\"\n",
    "        print(f\"{p_type} - R: {quarts[R]}\\t L: {quarts[L]}\")\n",
    "        \n",
    "print_by_handedness(pfx_x)\n",
    "pfx_z"
   ]
  },
  {
   "cell_type": "code",
   "execution_count": 16,
   "metadata": {
    "tags": []
   },
   "outputs": [
    {
     "output_type": "execute_result",
     "data": {
      "text/plain": "{'FF': [0.3765, 0.3833, 0.3903],\n 'SL': [0.4116, 0.4219, 0.4337],\n 'CH': [0.4123, 0.4222, 0.4343],\n 'FT': [0.3793, 0.3859, 0.3937],\n 'SI': [0.3807, 0.3884, 0.3973],\n 'KC': [0.4352, 0.4445, 0.4544],\n 'CU': [0.4426, 0.4557, 0.4718],\n 'FC': [0.3953, 0.4046, 0.4127],\n 'FS': [0.4121, 0.4198, 0.4285]}"
     },
     "metadata": {},
     "execution_count": 16
    }
   ],
   "source": [
    "from math import sqrt\n",
    "pitch = pitches[2]\n",
    "pitch\n",
    "\n",
    "\n",
    "# vy0*t + 0.5*ay*t^2 = -50\n",
    "# 0.5*ay*t^2 + vy0*t + 50 = 0\n",
    "# t = [-vy0 +- sqrt(vy0^2 - 2*ay*50)]/(ay)\n",
    "def get_duration(pitch):\n",
    "    vy0 = float(pitch['vy0'])\n",
    "    ay = float(pitch['ay'])\n",
    "    t = (-vy0 - sqrt(vy0*vy0 - (ay*2*50)))/ay\n",
    "    return t\n",
    "\n",
    "get_custom(get_duration)"
   ]
  },
  {
   "cell_type": "code",
   "execution_count": 17,
   "metadata": {},
   "outputs": [
    {
     "output_type": "execute_result",
     "data": {
      "text/plain": "{'ALL': [-0.0189, 0.0202, 0.0563]}"
     },
     "metadata": {},
     "execution_count": 17
    }
   ],
   "source": [
    "ax = float(pitch['ax'])\n",
    "vx0 = float(pitch['vx0'])\n",
    "x0 = float(pitch['x0'])\n",
    "px = float(pitch['px'])\n",
    "pfx_x = float(pitch['pfx_x'])\n",
    "\n",
    "# how much did the ball break?\n",
    "t = get_duration(pitch)\n",
    "simple_expected_x = vx0 * t\n",
    "\n",
    "x0 + vx0*t + 0.5*ax*t*t, pitch # -0.002 vs -0.05\n",
    "0.5*ax*t*t, pitch # 1.29 vs 2.33\n",
    "\n",
    "# Let's see how our vt+0.5*a*t*t compares with recorded positions\n",
    "\n",
    "def get_expected_location_error(pitch):\n",
    "    ax = float(pitch['ax'])\n",
    "    vx0 = float(pitch['vx0'])\n",
    "    x0 = float(pitch['x0'])\n",
    "    px = float(pitch['px'])\n",
    "    pfx_x = float(pitch['pfx_x'])\n",
    "    t = get_duration(pitch)\n",
    "\n",
    "    return x0 + vx0*t + 0.5*ax*t*t - px\n",
    "\n",
    "get_custom(get_expected_location_error, False)\n",
    "\n",
    "# Conclusion: So the physics model connects well with the final px values.\n",
    "# pfx_x doesn't seem to make sense but that's okay, we don't need it."
   ]
  },
  {
   "cell_type": "code",
   "execution_count": 18,
   "metadata": {
    "tags": []
   },
   "outputs": [
    {
     "output_type": "stream",
     "name": "stdout",
     "text": "FF - R: [-10.52954458030921, -8.017573039688758, -5.444577072447688]\t L: [5.012258101644899, 7.961908129858508, 10.679485750599781]\nFT - R: [-16.521161627843778, -14.80098590428748, -12.843060948509963]\t L: [12.837341055597753, 14.691911548056062, 16.328799653315293]\nSL - R: [0.9813536220371526, 3.2054172772907568, 5.764469697571114]\t L: [-5.38310928245169, -2.555653928559615, -0.07856020515474918]\nSI - R: [-17.02658293066584, -15.228463983224433, -13.256339808690782]\t L: [12.292954034981145, 14.274589081123104, 16.21849508071324]\nCH - R: [-15.845849711146661, -13.779414939566905, -11.342028200242416]\t L: [11.638850832762698, 14.167734675733321, 16.48893081254913]\nCU - R: [3.9715930426072985, 7.379820729473471, 10.689031165991334]\t L: [-9.046520574482745, -5.094323783844151, 1.6309220449947732]\nFC - R: [-0.32292631728745436, 1.7430096227248575, 3.577500609524885]\t L: [-1.6138590898915661, -0.010634590551029279, 1.8113834982392736]\nKC - R: [3.348335277418868, 6.510617848305445, 9.582041113370966]\t L: [-4.693687480272173, -1.26289865808399, 2.0508159226421387]\nFS - R: [-13.117792571067454, -10.543569496149921, -7.845188477173891]\t L: [-6.120472419597528, -2.106012793687804, 2.3770791109199982]\n"
    }
   ],
   "source": [
    "\n",
    "def get_break_x(pitch):\n",
    "    ax = float(pitch['ax'])\n",
    "    t = get_duration(pitch)\n",
    "    return 0.5*ax*t*t*12\n",
    "\n",
    "x_breaks_inches = get_custom(get_break_x, by_handedness=True)\n",
    "print_by_handedness(x_breaks_inches)"
   ]
  },
  {
   "cell_type": "code",
   "execution_count": 19,
   "metadata": {
    "tags": []
   },
   "outputs": [
    {
     "output_type": "stream",
     "name": "stdout",
     "text": "FF - R: [-6.36, -4.84, -3.29]\t L: [3.02, 4.81, 6.45]\nFT - R: [-9.98, -8.93, -7.75]\t L: [7.75, 8.87, 9.86]\nSL - R: [0.59, 1.93, 3.48]\t L: [-3.25, -1.54, -0.05]\nSI - R: [-10.28, -9.19, -8.0]\t L: [7.42, 8.62, 9.79]\nCH - R: [-9.57, -8.32, -6.84]\t L: [7.02, 8.55, 9.96]\nCU - R: [2.4, 4.46, 6.46]\t L: [-5.47, -3.08, 0.99]\nFC - R: [-0.19, 1.05, 2.16]\t L: [-0.97, -0.01, 1.09]\nKC - R: [2.02, 3.93, 5.795]\t L: [-2.83, -0.76, 1.24]\nFS - R: [-7.915, -6.36, -4.73]\t L: [-3.69, -1.27, 1.44]\n"
    }
   ],
   "source": [
    "# the calculated x_break seems very high for fastballs. What does it look like in pfx_x?\n",
    "\n",
    "print_by_handedness(get_quartiles(\"pfx_x\", by_handedness=True))"
   ]
  },
  {
   "cell_type": "markdown",
   "metadata": {},
   "source": [
    "# Discussion\n",
    "\n",
    "## Duration and full displacement\n",
    "\n",
    "`get_expected_location_error` is reporting pretty small numbers\n",
    "so that gives me confidence in our `t` calculation. Additionally\n",
    "it also seems right that our view of x + v*t + 0.5*a*t*t is the right\n",
    "way to figure out where the ball is.\n",
    "\n",
    "## Breaking distance, acceleration change vs pfx\n",
    "\n",
    "We would expect `pfx = 0.5*a*t*t`\n",
    "but it seems that `0.5*a*t*t > pfx`\n",
    "\n",
    "So some documentation says pfx is the movement in in inches in the last 40ft. Our x_breaks_inches calculation is for 50ft\n",
    "so it makes sense that it is larger. Is it only 20% larger? It should actually be less than 20% since the acceleration should\n",
    "have even less effect in the early part of the journey\n",
    "\n",
    "Some other documentation says that pfx is in feet but that is just insane. Unless it means ALL of the movement? I checked it but that doesn't seem likely either"
   ]
  },
  {
   "cell_type": "code",
   "execution_count": 36,
   "metadata": {
    "tags": []
   },
   "outputs": [
    {
     "output_type": "execute_result",
     "data": {
      "text/plain": "({'FF': [8.0400, 9.1900, 10.2200],\n  'SL': [-0.4200, 1.3200, 2.9600],\n  'CH': [2.4800, 4.3900, 6.0900],\n  'FT': [4.6100, 6.0600, 7.4200],\n  'SI': [3.4000, 5.1700, 6.7950],\n  'KC': [-7.9100, -6.1200, -4.0300],\n  'CU': [-7.3500, -5.1600, -2.7000],\n  'FC': [3.2200, 4.6100, 6.0300],\n  'FS': [1.1100, 2.6900, 4.5500]},\n {'FF': [-15.3193, -13.2146, -11.2695],\n  'SL': [-36.4584, -32.3558, -28.4823],\n  'CH': [-30.8819, -27.4686, -24.2798],\n  'FT': [-21.5692, -18.8820, -16.2357],\n  'SI': [-23.7316, -20.4215, -17.4646],\n  'KC': [-52.3889, -48.7223, -43.8214],\n  'CU': [-53.9961, -48.6558, -43.5023],\n  'FC': [-26.8620, -23.8002, -20.8096],\n  'FS': [-32.6265, -29.4994, -26.2584]})"
     },
     "metadata": {},
     "execution_count": 36
    }
   ],
   "source": [
    "# Maybe we can start looking at z change and that will give us a better idea\n",
    "pfx_z = get_quartiles(\"pfx_z\")\n",
    "\n",
    "def get_break_z(pitch):\n",
    "    az = float(pitch['az'])\n",
    "    t = get_duration(pitch)\n",
    "    return 0.5*az*t*t*12\n",
    "\n",
    "def get_z_travel(pitch):\n",
    "    az = float(pitch['az'])\n",
    "    t = get_duration(pitch)\n",
    "    vz0 = float(pitch['vz0'])\n",
    "    return vz0*t + 0.5*az*t*t\n",
    "\n",
    "def get_confirmed_z(pitch):\n",
    "    pz = float(pitch['pz'])\n",
    "    z0 = float(pitch['z0'])\n",
    "    return pz - z0\n",
    "\n",
    "pfx_z, get_custom(get_break_z)"
   ]
  },
  {
   "cell_type": "code",
   "execution_count": 59,
   "metadata": {},
   "outputs": [
    {
     "output_type": "execute_result",
     "data": {
      "text/plain": "({'ALL': [-2.3818, -1.9305, -1.5687]}, {'ALL': [15.4968, 55.7170, 88.0237]})"
     },
     "metadata": {},
     "execution_count": 59
    }
   ],
   "source": [
    "# Get z error\n",
    "\n",
    "def get_z_expected_location_error(pitch):\n",
    "    az = float(pitch['az'])\n",
    "    vz0 = float(pitch['vz0'])\n",
    "    z0 = float(pitch['z0'])\n",
    "    pz = float(pitch['pz'])\n",
    "    pfx_z = float(pitch['pfx_z'])\n",
    "    t = get_duration(pitch)\n",
    "\n",
    "    return (z0 + vz0*t + 0.5*az*t*t - pz)*12\n",
    "\n",
    "def get_z_error_by_pfx_z(pitch):\n",
    "    az = float(pitch['az'])\n",
    "    vz0 = float(pitch['vz0'])\n",
    "    z0 = float(pitch['z0'])\n",
    "    pz = float(pitch['pz'])\n",
    "    pfx_z = float(pitch['pfx_z'])\n",
    "    t = get_duration(pitch)\n",
    "    return (z0 + pfx_z - 0.5*32*t*t + vz0*t - pz)*12\n",
    "\n",
    "get_custom(get_z_expected_location_error, False), get_custom(get_z_error_by_pfx_z, False)"
   ]
  },
  {
   "cell_type": "markdown",
   "metadata": {},
   "source": [
    "# PFX_? is useless\n",
    "\n",
    "Maybe I am interpreting them incorrectly but they are way off.\n",
    "\n",
    "# Path forward\n",
    "\n",
    "We are going to ignore it and go with the normal 9 point fit: x0, y0, z0, vx0, vy0, vz0, ax, ay, az\n",
    "\n",
    "\n"
   ]
  },
  {
   "cell_type": "code",
   "execution_count": 62,
   "metadata": {},
   "outputs": [
    {
     "output_type": "execute_result",
     "data": {
      "text/plain": "({'ALL_R': [-2.1500, -1.6900, -1.2600], 'ALL_L': [1.4000, 1.9100, 2.3800]},\n {'ALL_R': [5.5000, 5.7800, 6.0600], 'ALL_L': [5.5400, 5.8100, 6.1000]})"
     },
     "metadata": {},
     "execution_count": 62
    }
   ],
   "source": [
    "start_x = get_quartiles('x0', by_handedness=True, by_pitch_type=False)\n",
    "start_z = get_quartiles('z0', by_handedness=True, by_pitch_type=False)\n",
    "\n",
    "start_x, start_z"
   ]
  },
  {
   "cell_type": "code",
   "execution_count": 63,
   "metadata": {},
   "outputs": [
    {
     "output_type": "execute_result",
     "data": {
      "text/plain": "{'FF': [-138.3300, -135.8800, -133.4300],\n 'SL': [-126.3600, -123.3600, -120.1300],\n 'CH': [-126.2900, -123.3100, -119.9200],\n 'FT': [-137.3000, -134.9200, -132.3000],\n 'SI': [-136.7400, -134.1100, -131.0800],\n 'KC': [-119.9275, -117.5400, -115.0825],\n 'CU': [-117.9200, -114.6300, -110.8200],\n 'FC': [-131.4300, -128.4100, -125.9300],\n 'FS': [-126.2700, -124.0100, -121.5600]}"
     },
     "metadata": {},
     "execution_count": 63
    }
   ],
   "source": [
    "get_quartiles('vy0')"
   ]
  },
  {
   "cell_type": "code",
   "execution_count": 85,
   "metadata": {
    "tags": []
   },
   "outputs": [
    {
     "output_type": "stream",
     "name": "stdout",
     "text": "FF - R: [-10.53, -8.018, -5.445]\t L: [5.012, 7.962, 10.6795]\nFT - R: [-16.521, -14.801, -12.843]\t L: [12.837, 14.692, 16.329]\nSL - R: [0.981, 3.205, 5.7642500000000005]\t L: [-5.383, -2.5555000000000003, -0.0785]\nSI - R: [-17.02675, -15.2285, -13.25625]\t L: [12.293, 14.275, 16.2185]\nCH - R: [-15.846, -13.779, -11.342]\t L: [11.639, 14.168, 16.489]\nCU - R: [3.972, 7.38, 10.689]\t L: [-9.04625, -5.0945, 1.6312499999999999]\nFC - R: [-0.323, 1.743, 3.578]\t L: [-1.61375, -0.010499999999999999, 1.81175]\nKC - R: [3.3485, 6.511, 9.582]\t L: [-4.694, -1.263, 2.051]\nFS - R: [-13.1175, -10.544, -7.845000000000001]\t L: [-6.1205, -2.106, 2.3775]\n{\n{ PitchType.FourFastball, new MinMidMax(5.012f, 7.962f, 10.6795f)},\n{ PitchType.TwoFastball, new MinMidMax(12.837f, 14.692f, 16.329f)},\n{ PitchType.Slider, new MinMidMax(-5.383f, -2.5555000000000003f, -0.0785f)},\n{ PitchType.Sinker, new MinMidMax(12.293f, 14.275f, 16.2185f)},\n{ PitchType.Changeup, new MinMidMax(11.639f, 14.168f, 16.489f)},\n{ PitchType.Curveball, new MinMidMax(-9.04625f, -5.0945f, 1.6312499999999999f)},\n{ PitchType.Cutter, new MinMidMax(-1.61375f, -0.010499999999999999f, 1.81175f)},\n{ PitchType.KnuckleCurve, new MinMidMax(-4.694f, -1.263f, 2.051f)},\n{ PitchType.Splitter, new MinMidMax(-6.1205f, -2.106f, 2.3775f)},\n}\n\n"
    }
   ],
   "source": [
    "\n",
    "# copied from above\n",
    "def get_break_x(pitch):\n",
    "    ax = float(pitch['ax'])\n",
    "    t = get_duration(pitch)\n",
    "    break_inches = 0.5*ax*t*t*12\n",
    "    pretty = round(1000*break_inches)/1000\n",
    "    return pretty\n",
    "\n",
    "x_breaks_inches = get_custom(get_break_x, by_handedness=True)\n",
    "print_by_handedness(x_breaks_inches)\n",
    "\n",
    "\n",
    "def get_csharp_type(ptype):\n",
    "    names = {\n",
    "        \"FF\": \"FourFastball\",\n",
    "        \"FT\": \"TwoFastball\",\n",
    "        \"SL\": \"Slider\",\n",
    "        \"SI\": \"Sinker\",\n",
    "        \"CH\": \"Changeup\",\n",
    "        \"CU\": \"Curveball\",\n",
    "        \"FC\": \"Cutter\",\n",
    "        \"KC\": \"KnuckleCurve\",\n",
    "        \"FS\": \"Splitter\"\n",
    "    }\n",
    "    return names[ptype]\n",
    "\n",
    "def csharp_helper(quarts, by_handedness=True):\n",
    "    output = \"{\\n\"\n",
    "    for p_type in pitch_types:\n",
    "        row = None\n",
    "        if by_handedness:\n",
    "            R = p_type + \"_R\"\n",
    "            L = p_type + \"_L\"\n",
    "            row = quarts[L]\n",
    "        else:\n",
    "            row = quarts[p_type]\n",
    "        output += \"{ PitchType.\" + get_csharp_type(p_type) + \", new MinMidMax(\"\n",
    "\n",
    "        output += f\"{row[0]}f, {row[1]}f, {row[2]}f)\"\n",
    "        output += \"},\\n\"\n",
    "    output += \"}\\n\"\n",
    "    print(output)\n",
    "\n",
    "csharp_helper(x_breaks_inches)"
   ]
  },
  {
   "cell_type": "code",
   "execution_count": 86,
   "metadata": {
    "tags": []
   },
   "outputs": [
    {
     "output_type": "stream",
     "name": "stdout",
     "text": "{\n{ PitchType.FourFastball, new MinMidMax(-15.319f, -13.215f, -11.27f)},\n{ PitchType.TwoFastball, new MinMidMax(-21.569f, -18.882f, -16.236f)},\n{ PitchType.Slider, new MinMidMax(-36.458f, -32.356f, -28.482f)},\n{ PitchType.Sinker, new MinMidMax(-23.732f, -20.422f, -17.465f)},\n{ PitchType.Changeup, new MinMidMax(-30.882f, -27.469f, -24.28f)},\n{ PitchType.Curveball, new MinMidMax(-53.996f, -48.656f, -43.502f)},\n{ PitchType.Cutter, new MinMidMax(-26.862f, -23.8f, -20.81f)},\n{ PitchType.KnuckleCurve, new MinMidMax(-52.389250000000004f, -48.722f, -43.82125f)},\n{ PitchType.Splitter, new MinMidMax(-32.62625f, -29.499499999999998f, -26.25875f)},\n}\n\n"
    }
   ],
   "source": [
    "def get_break_z(pitch):\n",
    "    # includes gravity break\n",
    "    az = float(pitch['az'])\n",
    "    t = get_duration(pitch)\n",
    "    break_inches = 0.5*az*t*t*12\n",
    "    pretty = round(1000*break_inches)/1000\n",
    "    return pretty\n",
    "\n",
    "csharp_helper(get_custom(get_break_z), by_handedness=False)"
   ]
  },
  {
   "cell_type": "code",
   "execution_count": 88,
   "metadata": {
    "tags": []
   },
   "outputs": [
    {
     "output_type": "stream",
     "name": "stdout",
     "text": "{\n{ PitchType.FourFastball, new MinMidMax(26.53f, 28.29f, 30.05f)},\n{ PitchType.TwoFastball, new MinMidMax(26.13f, 27.81f, 29.52f)},\n{ PitchType.Slider, new MinMidMax(21.38f, 22.9f, 24.52f)},\n{ PitchType.Sinker, new MinMidMax(25.75f, 27.51f, 29.31f)},\n{ PitchType.Changeup, new MinMidMax(21.4f, 23.11f, 24.83f)},\n{ PitchType.Curveball, new MinMidMax(19.73f, 21.33f, 23.0f)},\n{ PitchType.Cutter, new MinMidMax(22.44f, 23.96f, 25.61f)},\n{ PitchType.KnuckleCurve, new MinMidMax(21.01f, 22.46f, 23.95f)},\n{ PitchType.Splitter, new MinMidMax(21.91f, 23.28f, 24.64f)},\n}\n\n"
    }
   ],
   "source": [
    "csharp_helper(get_quartiles(\"ay\"), by_handedness=False)"
   ]
  },
  {
   "cell_type": "markdown",
   "metadata": {},
   "source": [
    "# Gather conclusions\n",
    "\n",
    "# Starting location by handedness\n",
    "\n",
    "Starting x:\n",
    "\n",
    "```\n",
    "{'ALL_R': [-2.1500, -1.6900, -1.2600], 'ALL_L': [1.4000, 1.9100, 2.3800]}\n",
    "```\n",
    "\n",
    "Starting y: \n",
    "\n",
    "```\n",
    "50ft\n",
    "```\n",
    "\n",
    "Starting z:\n",
    "\n",
    "```\n",
    " {'ALL_R': [5.5000, 5.7800, 6.0600], 'ALL_L': [5.5400, 5.8100, 6.1000]}\n",
    "```\n",
    "\n",
    "# vy0 by pitch type (feet per second)\n",
    "\n",
    "```\n",
    "{'FF': [-138.3300, -135.8800, -133.4300],\n",
    " 'SL': [-126.3600, -123.3600, -120.1300],\n",
    " 'CH': [-126.2900, -123.3100, -119.9200],\n",
    " 'FT': [-137.3000, -134.9200, -132.3000],\n",
    " 'SI': [-136.7400, -134.1100, -131.0800],\n",
    " 'KC': [-119.9275, -117.5400, -115.0825],\n",
    " 'CU': [-117.9200, -114.6300, -110.8200],\n",
    " 'FC': [-131.4300, -128.4100, -125.9300],\n",
    " 'FS': [-126.2700, -124.0100, -121.5600]}\n",
    "```\n",
    "\n",
    "# Break distance in x by pitch type and handedness (inches)\n",
    "\n",
    "```\n",
    "FF - R: [-10.53, -8.018, -5.445]\t L: [5.012, 7.962, 10.6795]\n",
    "FT - R: [-16.521, -14.801, -12.843]\t L: [12.837, 14.692, 16.329]\n",
    "SL - R: [0.981, 3.205, 5.76425]      L: [-5.383, -2.5555, -0.0785]\n",
    "SI - R: [-17.03, -15.23, -13.26]\t L: [12.293, 14.275, 16.2185]\n",
    "CH - R: [-15.846, -13.779, -11.342]\t L: [11.639, 14.168, 16.489]\n",
    "CU - R: [3.972, 7.38, 10.689]\t     L: [-9.04625, -5.0945, 1.63125]\n",
    "FC - R: [-0.323, 1.743, 3.578]\t     L: [-1.61375, -0.0105, 1.81175]\n",
    "KC - R: [3.3485, 6.511, 9.582]\t     L: [-4.694, -1.263, 2.051]\n",
    "FS - R: [-13.1175, -10.544, -7.845]\t L: [-6.1205, -2.106, 2.3775]\n",
    "```\n",
    "\n",
    "# Break distance in z by pitch type (inches)\n",
    "\n",
    "This includes the gravity Break\n",
    "\n",
    "```\n",
    "{'FF': [-15.3190, -13.2150, -11.2700],\n",
    " 'SL': [-36.4580, -32.3560, -28.4820],\n",
    " 'CH': [-30.8820, -27.4690, -24.2800],\n",
    " 'FT': [-21.5690, -18.8820, -16.2360],\n",
    " 'SI': [-23.7320, -20.4220, -17.4650],\n",
    " 'KC': [-52.3893, -48.7220, -43.8212],\n",
    " 'CU': [-53.9960, -48.6560, -43.5020],\n",
    " 'FC': [-26.8620, -23.8000, -20.8100],\n",
    " 'FS': [-32.6262, -29.4995, -26.2587]}\n",
    "```\n",
    "\n",
    "# How to use these values:\n",
    "\n",
    "We will have an algorithm that picks end location and pitch time.\n",
    "\n",
    "Starting location: just get average starting location by handedness\n",
    "\n",
    "Pick vy0 by pitch type and pick average ay. This gives us `t`\n",
    "\n",
    "Now get average break distance in x and z by pitch type and handedness\n",
    "\n",
    "We will calculate `ax` and `az` such that `0.5*a*t*t` equalts the break distance\n",
    "\n",
    "Now take the target location, subtract the break distances to get straight_x and straight_z\n",
    "\n",
    "Use these to set vx0 and vz0."
   ]
  }
 ]
}